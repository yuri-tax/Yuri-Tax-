{
 "cells": [
  {
   "cell_type": "markdown",
   "metadata": {
    "raw_mimetype": "text/markdown"
   },
   "source": [
    "# Lab Assignment 2\n",
    "\n",
    "In the third assignment you will classify hand-written digits using logistic regression.\n",
    "\n",
    "The assignment follows Andrew Ng's explanation of Logistic Regression and (re)watching his videos could be useful (Week 3)\n",
    "\n",
    "Publish your notebook (ipynb file) to your Machine Learning () repository on Github.\n",
    "\n",
    "### Deadline October 26th, 23:59\n",
    "\n",
    "Do not hand in any other files, the Notebook should contain all your answers."
   ]
  },
  {
   "cell_type": "code",
   "execution_count": 9,
   "metadata": {
    "collapsed": false
   },
   "outputs": [
    {
     "name": "stdout",
     "output_type": "stream",
     "text": [
      "Populating the interactive namespace from numpy and matplotlib\n"
     ]
    }
   ],
   "source": [
    "%pylab inline"
   ]
  },
  {
   "cell_type": "markdown",
   "metadata": {},
   "source": [
    "Scikit-learn has the dataset built in. The dataset contains images of hand-written digits that are only 8 by 8 pixels, which means the algorithm (logistic regression) should run on every computer.\n",
    "\n",
    "The code in the following cell shows how to work with the digits dataset and  how to visualize it. As you can see the numbers are not very clear in 8x8 pixels images, this means we cannot expect our logistic regression will have a very high classification score."
   ]
  },
  {
   "cell_type": "code",
   "execution_count": 10,
   "metadata": {
    "collapsed": false
   },
   "outputs": [
    {
     "name": "stdout",
     "output_type": "stream",
     "text": [
      "The numbers shown are: \n",
      "[[0 1 2 3 4]\n",
      " [5 6 7 8 9]]\n"
     ]
    },
    {
     "data": {
      "image/png": "[encoded data removed]",
      "text/plain": [
       "<matplotlib.figure.Figure at 0x10ff1c2d0>"
      ]
     },
     "metadata": {},
     "output_type": "display_data"
    }
   ],
   "source": [
    "from sklearn.datasets import load_digits\n",
    "\n",
    "digits = load_digits(n_class=10)\n",
    "\n",
    "#Create two rows with numbers\n",
    "firstrow = np.hstack(digits.images[:5,:,:])\n",
    "secondrow = np.hstack(digits.images[5:10,:,:])\n",
    "\n",
    "plt.gray()\n",
    "plt.axis('off')\n",
    "\n",
    "#Show both rows at the same time\n",
    "plt.imshow(np.vstack((firstrow,secondrow)), interpolation= \"nearest\")\n",
    "\n",
    "print \"The numbers shown are: \\n\", np.vstack((digits.target[:5], digits.target[5:10]))"
   ]
  },
  {
   "cell_type": "markdown",
   "metadata": {},
   "source": [
    "## The implementation\n",
    "\n",
    "You have to implement the next three functions and fill in the body of the loop in order to create a correct implementation of logistic regression. Don't change the definitions of the functions and input parameters.\n",
    "\n",
    "Make sure that you do not overfit by keeping track of the score on the test set and implementing a correct stop condition. Also pick a learning rate alpha that makes sure the algorithm learns in a smooth and stable manner.\n",
    "\n",
    "Plot how your score on the test set improves over time. My best score was about 85% correct!\n",
    "\n",
    "Make sure to comment your code."
   ]
  },
  {
   "cell_type": "code",
   "execution_count": 11,
   "metadata": {
    "collapsed": false
   },
   "outputs": [],
   "source": [
    "#Make a prediction function h\n",
    "def sigmoid(x):\n",
    "    return 1 / (1 + np.exp(-x))\n",
    "\n",
    "def prediction_function(x,theta):\n",
    "    #must be shape 10x1\n",
    "    h = sigmoid(np.dot(theta.T, x))\n",
    "    return h\n",
    "\n",
    "\n"
   ]
  },
  {
   "cell_type": "code",
   "execution_count": 12,
   "metadata": {
    "collapsed": false
   },
   "outputs": [],
   "source": [
    "#Use the output of that function to compute the cost function J: !!!!IGNORE FOR NOW!!!!!\n",
    "#def cost_function(x_predict,y):\n",
    "#    -1/m*(np.sum([y*np.log(x_predict) +(1-y)*np.log(1-x_predict)])) #cost funciton of 1 example\n",
    "    \n"
   ]
  },
  {
   "cell_type": "code",
   "execution_count": 27,
   "metadata": {
    "collapsed": false
   },
   "outputs": [],
   "source": [
    "#Create a function that returns the gradient values, given h (x_predict), y and x:\n",
    "\n",
    "#!!consider matrix dimensions!!\n",
    "def compute_gradient(x_predict, y, x):\n",
    "    #m = x_predict.size\n",
    "    result = np.outer(x_predict - y, x[j,:]) #multiplies such that 10x1 *outer* 1x64 => 10x64\n",
    "    return result\n",
    "\n"
   ]
  },
  {
   "cell_type": "code",
   "execution_count": 190,
   "metadata": {
    "collapsed": false,
    "scrolled": true
   },
   "outputs": [
    {
     "name": "stderr",
     "output_type": "stream",
     "text": [
      "/Users/tax/anaconda/lib/python2.7/site-packages/ipykernel/__main__.py:3: RuntimeWarning: overflow encountered in exp\n",
      "  app.launch_new_instance()\n"
     ]
    },
    {
     "ename": "TypeError",
     "evalue": "unsupported operand type(s) for +: 'int' and 'str'",
     "output_type": "error",
     "traceback": [
      "\u001b[0;31m---------------------------------------------------------------------------\u001b[0m",
      "\u001b[0;31mTypeError\u001b[0m                                 Traceback (most recent call last)",
      "\u001b[0;32m<ipython-input-190-a08cc39077aa>\u001b[0m in \u001b[0;36m<module>\u001b[0;34m()\u001b[0m\n\u001b[1;32m     51\u001b[0m     \u001b[0;32mreturn\u001b[0m \u001b[0mcorrect\u001b[0m\u001b[0;34m\u001b[0m\u001b[0m\n\u001b[1;32m     52\u001b[0m \u001b[0;34m\u001b[0m\u001b[0m\n\u001b[0;32m---> 53\u001b[0;31m \u001b[0;32mprint\u001b[0m \u001b[0misCorrect\u001b[0m\u001b[0;34m(\u001b[0m\u001b[0mx_test\u001b[0m\u001b[0;34m,\u001b[0m \u001b[0mtarget_test\u001b[0m\u001b[0;34m)\u001b[0m \u001b[0;34m+\u001b[0m \u001b[0;34m\"out of 297 correct\"\u001b[0m\u001b[0;34m\u001b[0m\u001b[0m\n\u001b[0m",
      "\u001b[0;31mTypeError\u001b[0m: unsupported operand type(s) for +: 'int' and 'str'"
     ]
    },
    {
     "data": {
      "image/png": "[encoded data removed]",
      "text/plain": [
       "<matplotlib.figure.Figure at 0x112a0efd0>"
      ]
     },
     "metadata": {},
     "output_type": "display_data"
    }
   ],
   "source": [
    "#Choose a suitable learning rate\n",
    "alpha = 0.5\n",
    "iterations = 100\n",
    "theta = np.zeros((64,10))\n",
    "\n",
    "#It is important to check that you're not overfitting by testing your prediction on a testset\n",
    "x = np.reshape(digits.images[:1500],(1500,64)) #A 1500x8x8 matrix is reshaped to 1500x64\n",
    "x_test = np.reshape(digits.images[1500:],(297,64)) #seperating into learning set and test set\n",
    "\n",
    "target = digits.target[:1500] \n",
    "target_test = digits.target[1500:]\n",
    "\n",
    "#print x[0,:]\n",
    "#print x[0,:].shape\n",
    "#print digits.images[1500:].shape\n",
    "#print x_test.shape\n",
    "correct_array = []\n",
    "q = []\n",
    "for i in range(iterations):\n",
    "    learning_graph = 0\n",
    "    for j in range(x.shape[0]):\n",
    "        \n",
    "        x_predict = prediction_function(x[j,:].T,theta)\n",
    "        y = np.zeros(10)\n",
    "        y[target[j]] = 1\n",
    "        theta_temp = alpha*compute_gradient(x_predict, y, x)\n",
    "        theta = theta - theta_temp.T\n",
    "    #saves the amount of correct predictions and the iterations simultaniously\n",
    "    correct_array = np.append(correct_array, (isCorrect(x_test, target_test)))\n",
    "    q = np.append(q, i)\n",
    "        \n",
    "        #print y\n",
    "        #print isCorrect(i,y)\n",
    "        #correct = correct + isCorrect(i,y)\n",
    "        #print i    \n",
    "\n",
    "#print correct_array\n",
    "#returns a graph with the percentage of correct fits, it unfortunately does not beat the 85% correctness. \n",
    "percentage_correct = (correct_array / x_test.shape[0])*100\n",
    "plt.plot(q, percentage_correct, 'x')\n",
    "plt.show\n",
    "\n",
    "#x = x test samples, y = target test samples\n",
    "def isCorrect(x, y):\n",
    "    correct = 0\n",
    "    for i in range(x_test.shape[0]):\n",
    "        #checks whether the the highest probability, highest number in the array returned by the prediction function\n",
    "        #is equal to the target_test of that particular sample. And keeps count how many times this is the case.\n",
    "        if np.equal(np.argmax(prediction_function(x[i,:], theta)),y[i]):\n",
    "            correct = correct + 1\n",
    "    return correct\n",
    "\n",
    "print isCorrect(x_test, target_test) + \"out of 297 correct\""
   ]
  },
  {
   "cell_type": "code",
   "execution_count": null,
   "metadata": {
    "collapsed": false
   },
   "outputs": [],
   "source": []
  },
  {
   "cell_type": "code",
   "execution_count": null,
   "metadata": {
    "collapsed": true
   },
   "outputs": [],
   "source": []
  },
  {
   "cell_type": "code",
   "execution_count": null,
   "metadata": {
    "collapsed": true
   },
   "outputs": [],
   "source": []
  },
  {
   "cell_type": "code",
   "execution_count": null,
   "metadata": {
    "collapsed": true
   },
   "outputs": [],
   "source": []
  },
  {
   "cell_type": "code",
   "execution_count": null,
   "metadata": {
    "collapsed": true
   },
   "outputs": [],
   "source": []
  },
  {
   "cell_type": "code",
   "execution_count": null,
   "metadata": {
    "collapsed": true
   },
   "outputs": [],
   "source": []
  },
  {
   "cell_type": "code",
   "execution_count": null,
   "metadata": {
    "collapsed": true
   },
   "outputs": [],
   "source": []
  },
  {
   "cell_type": "code",
   "execution_count": null,
   "metadata": {
    "collapsed": true
   },
   "outputs": [],
   "source": []
  }
 ],
 "metadata": {
  "anaconda-cloud": {},
  "celltoolbar": "Raw Cell Format",
  "kernelspec": {
   "display_name": "Python [Root]",
   "language": "python",
   "name": "Python [Root]"
  },
  "language_info": {
   "codemirror_mode": {
    "name": "ipython",
    "version": 2
   },
   "file_extension": ".py",
   "mimetype": "text/x-python",
   "name": "python",
   "nbconvert_exporter": "python",
   "pygments_lexer": "ipython2",
   "version": "2.7.12"
  }
 },
 "nbformat": 4,
 "nbformat_minor": 0
}
